{
 "cells": [
  {
   "cell_type": "code",
   "execution_count": 2,
   "id": "dated-delicious",
   "metadata": {},
   "outputs": [],
   "source": [
    "import numpy as np\n",
    "import pandas as pd\n",
    "import matplotlib.pyplot as plt"
   ]
  },
  {
   "cell_type": "code",
   "execution_count": 3,
   "id": "secure-arena",
   "metadata": {},
   "outputs": [
    {
     "data": {
      "text/html": [
       "<div>\n",
       "<style scoped>\n",
       "    .dataframe tbody tr th:only-of-type {\n",
       "        vertical-align: middle;\n",
       "    }\n",
       "\n",
       "    .dataframe tbody tr th {\n",
       "        vertical-align: top;\n",
       "    }\n",
       "\n",
       "    .dataframe thead th {\n",
       "        text-align: right;\n",
       "    }\n",
       "</style>\n",
       "<table border=\"1\" class=\"dataframe\">\n",
       "  <thead>\n",
       "    <tr style=\"text-align: right;\">\n",
       "      <th></th>\n",
       "      <th>id</th>\n",
       "      <th>label</th>\n",
       "      <th>company</th>\n",
       "      <th>tweet</th>\n",
       "    </tr>\n",
       "  </thead>\n",
       "  <tbody>\n",
       "    <tr>\n",
       "      <th>0</th>\n",
       "      <td>0000</td>\n",
       "      <td>neu</td>\n",
       "      <td>apl</td>\n",
       "      <td>20 min line @apple store @short pump.\\n</td>\n",
       "    </tr>\n",
       "    <tr>\n",
       "      <th>1</th>\n",
       "      <td>0001</td>\n",
       "      <td>irr</td>\n",
       "      <td>msf</td>\n",
       "      <td>Nueva tecnología convierte cualquier superfic...</td>\n",
       "    </tr>\n",
       "    <tr>\n",
       "      <th>2</th>\n",
       "      <td>0002</td>\n",
       "      <td>neu</td>\n",
       "      <td>ggl</td>\n",
       "      <td>Some people should not post replies in #Googl...</td>\n",
       "    </tr>\n",
       "    <tr>\n",
       "      <th>3</th>\n",
       "      <td>0003</td>\n",
       "      <td>neg</td>\n",
       "      <td>apl</td>\n",
       "      <td>I know a few others having same issue RT @Joe...</td>\n",
       "    </tr>\n",
       "    <tr>\n",
       "      <th>4</th>\n",
       "      <td>0004</td>\n",
       "      <td>neg</td>\n",
       "      <td>msf</td>\n",
       "      <td>#Microsoft - We put the \"\"backwards\"\" into ba...</td>\n",
       "    </tr>\n",
       "    <tr>\n",
       "      <th>5</th>\n",
       "      <td>0005</td>\n",
       "      <td>neg</td>\n",
       "      <td>twt</td>\n",
       "      <td>#twitter is sooo trash ritenow with all dezz ...</td>\n",
       "    </tr>\n",
       "    <tr>\n",
       "      <th>6</th>\n",
       "      <td>0006</td>\n",
       "      <td>neu</td>\n",
       "      <td>apl</td>\n",
       "      <td>RT @jesperordrup: Hi @apple. Household has 4 ...</td>\n",
       "    </tr>\n",
       "    <tr>\n",
       "      <th>7</th>\n",
       "      <td>0007</td>\n",
       "      <td>irr</td>\n",
       "      <td>msf</td>\n",
       "      <td>#ALG Culminando formación en #Microsoft M-277...</td>\n",
       "    </tr>\n",
       "    <tr>\n",
       "      <th>8</th>\n",
       "      <td>0008</td>\n",
       "      <td>neu</td>\n",
       "      <td>msf</td>\n",
       "      <td>#Microsoft Community Blogs The 7/365 Review -...</td>\n",
       "    </tr>\n",
       "    <tr>\n",
       "      <th>9</th>\n",
       "      <td>0009</td>\n",
       "      <td>irr</td>\n",
       "      <td>twt</td>\n",
       "      <td>Buenas noches a todos #Twitter off\\n</td>\n",
       "    </tr>\n",
       "  </tbody>\n",
       "</table>\n",
       "</div>"
      ],
      "text/plain": [
       "     id label company                                              tweet\n",
       "0  0000   neu     apl            20 min line @apple store @short pump.\\n\n",
       "1  0001   irr     msf   Nueva tecnología convierte cualquier superfic...\n",
       "2  0002   neu     ggl   Some people should not post replies in #Googl...\n",
       "3  0003   neg     apl   I know a few others having same issue RT @Joe...\n",
       "4  0004   neg     msf   #Microsoft - We put the \"\"backwards\"\" into ba...\n",
       "5  0005   neg     twt   #twitter is sooo trash ritenow with all dezz ...\n",
       "6  0006   neu     apl   RT @jesperordrup: Hi @apple. Household has 4 ...\n",
       "7  0007   irr     msf   #ALG Culminando formación en #Microsoft M-277...\n",
       "8  0008   neu     msf   #Microsoft Community Blogs The 7/365 Review -...\n",
       "9  0009   irr     twt               Buenas noches a todos #Twitter off\\n"
      ]
     },
     "execution_count": 3,
     "metadata": {},
     "output_type": "execute_result"
    }
   ],
   "source": [
    "data=[]\n",
    "\n",
    "with open(\"./train.txt\",\"r\") as file:\n",
    "    for line in file:\n",
    "        metadata,tweet=line[1:13],line[14:]\n",
    "        ID,label,company = metadata.split(\",\")\n",
    "        data.append((ID,label,company,tweet))\n",
    "\n",
    "df=pd.DataFrame(data,columns=[\"id\",\"label\",\"company\",\"tweet\"])\n",
    "df.head(10)"
   ]
  },
  {
   "cell_type": "code",
   "execution_count": 4,
   "id": "killing-premises",
   "metadata": {},
   "outputs": [],
   "source": [
    "df.to_csv(r'./train.csv', index = False)"
   ]
  },
  {
   "cell_type": "code",
   "execution_count": 5,
   "id": "moral-bleeding",
   "metadata": {},
   "outputs": [
    {
     "name": "stdout",
     "output_type": "stream",
     "text": [
      "label\n",
      "irr    1389\n",
      "neg     486\n",
      "neu    1871\n",
      "pos     427\n",
      "Name: label, dtype: int64\n"
     ]
    }
   ],
   "source": [
    "print(df.groupby('label')['label'].count())"
   ]
  },
  {
   "cell_type": "code",
   "execution_count": 6,
   "id": "awful-praise",
   "metadata": {},
   "outputs": [],
   "source": [
    "df['length']=df['tweet'].apply(lambda x:len(x))\n",
    "len_df = df.groupby('length').count()\n",
    "sent_length = len_df.index.tolist()\n",
    "sent_freq = len_df['label'].tolist()"
   ]
  },
  {
   "cell_type": "code",
   "execution_count": 7,
   "id": "suspected-trace",
   "metadata": {},
   "outputs": [
    {
     "data": {
      "image/png": "[encoded data removed]",
      "text/plain": [
       "<Figure size 432x288 with 1 Axes>"
      ]
     },
     "metadata": {
      "needs_background": "light"
     },
     "output_type": "display_data"
    }
   ],
   "source": [
    "plt.bar(sent_length, sent_freq)\n",
    "plt.title(\"Sentences Length and Frequency\")\n",
    "plt.xlabel(\"Length\")\n",
    "plt.ylabel(\"Frequency\")\n",
    "plt.show()"
   ]
  },
  {
   "cell_type": "code",
   "execution_count": 8,
   "id": "disturbed-blake",
   "metadata": {},
   "outputs": [],
   "source": [
    "from keras.utils import np_utils, plot_model\n",
    "from keras.preprocessing.sequence import pad_sequences"
   ]
  },
  {
   "cell_type": "code",
   "execution_count": 9,
   "id": "negative-process",
   "metadata": {},
   "outputs": [],
   "source": [
    "labels, vocabulary = list(df['label'].unique()), list(df['tweet'].unique())\n",
    "string = ''\n",
    "for word in vocabulary:\n",
    "    string += word\n",
    "\n",
    "vocabulary = set(string)\n",
    "word_dictionary = {word: i+1 for i, word in enumerate(vocabulary)}\n",
    "label_dictionary = {label: i for i, label in enumerate(labels)}\n",
    "vocab_size = len(word_dictionary.keys())\n",
    "label_size = len(label_dictionary.keys())"
   ]
  },
  {
   "cell_type": "code",
   "execution_count": 11,
   "id": "compliant-testimony",
   "metadata": {},
   "outputs": [],
   "source": [
    "x = [[word_dictionary[word] for word in sent] for sent in df['tweet']]\n",
    "x = pad_sequences(maxlen=100, sequences=x, padding='post', value=0)\n",
    "y = [[label_dictionary[sent]] for sent in df['label']]\n",
    "y = [np_utils.to_categorical(label, num_classes=label_size) for label in y]\n",
    "y = np.array([list(_[0]) for _ in y])"
   ]
  },
  {
   "cell_type": "code",
   "execution_count": 14,
   "id": "hearing-warehouse",
   "metadata": {},
   "outputs": [
    {
     "name": "stdout",
     "output_type": "stream",
     "text": [
      "X:[[606 167  76 ...   0   0   0]\n",
      " [ 39 373 366 ... 651 634 345]\n",
      " [634 395 475 ...  31 455 345]\n",
      " ...\n",
      " [634  31 606 ... 656 328 345]\n",
      " [373 395  68 ... 682 366 345]\n",
      " [366 348 328 ... 235 467 345]]\n",
      "Y:[[1. 0. 0. 0.]\n",
      " [0. 1. 0. 0.]\n",
      " [1. 0. 0. 0.]\n",
      " ...\n",
      " [1. 0. 0. 0.]\n",
      " [0. 0. 1. 0.]\n",
      " [0. 0. 1. 0.]]\n"
     ]
    }
   ],
   "source": [
    "print(\"X:{}\\nY:{}\".format(x,y))"
   ]
  },
  {
   "cell_type": "code",
   "execution_count": null,
   "id": "junior-husband",
   "metadata": {},
   "outputs": [],
   "source": []
  }
 ],
 "metadata": {
  "kernelspec": {
   "display_name": "Python 3",
   "language": "python",
   "name": "python3"
  },
  "language_info": {
   "codemirror_mode": {
    "name": "ipython",
    "version": 3
   },
   "file_extension": ".py",
   "mimetype": "text/x-python",
   "name": "python",
   "nbconvert_exporter": "python",
   "pygments_lexer": "ipython3",
   "version": "3.7.9"
  }
 },
 "nbformat": 4,
 "nbformat_minor": 5
}
